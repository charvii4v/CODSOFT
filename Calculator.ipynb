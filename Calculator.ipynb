{
 "cells": [
  {
   "cell_type": "code",
   "execution_count": 10,
   "id": "b87e93f7-1d55-4d63-b675-22fee82fa9f7",
   "metadata": {},
   "outputs": [
    {
     "name": "stdin",
     "output_type": "stream",
     "text": [
      " Enter the first number:  4\n",
      " Enter the second number:  5\n"
     ]
    },
    {
     "name": "stdout",
     "output_type": "stream",
     "text": [
      "Select an operation:\n",
      "1: Addition (+)\n",
      "2: Subtraction (-)\n",
      "3: Multipllication (*)\n",
      "4: Division (/)\n"
     ]
    },
    {
     "name": "stdin",
     "output_type": "stream",
     "text": [
      "Enter the operation number you want to perform:  3\n"
     ]
    },
    {
     "name": "stdout",
     "output_type": "stream",
     "text": [
      "The result of multiplying 4.0 by 5.0 is: 20.0\n"
     ]
    }
   ],
   "source": [
    "def simple_calculator():\n",
    "   \n",
    "    try:\n",
    "        n1 = float(input(\" Enter the first number: \"))\n",
    "        n2 = float(input(\" Enter the second number: \"))\n",
    "    except ValueError:\n",
    "        print(\"Oops! That doesn't seem to be a valid number. Try again.\")\n",
    "        return\n",
    "    \n",
    "    \n",
    "    print(\"Select an operation:\")\n",
    "    print(\"1: Addition (+)\")\n",
    "    print(\"2: Subtraction (-)\")\n",
    "    print(\"3: Multipllication (*)\")\n",
    "    print(\"4: Division (/)\")\n",
    "\n",
    "    \n",
    "    operation = input(\"Enter the operation number you want to perform: \")\n",
    "\n",
    "    \n",
    "    if operation == '1':\n",
    "        result = n1 + n2\n",
    "        print(f\"The result of adding {n1} and {n2} is: {result}\")\n",
    "    elif operation == '2':\n",
    "        result = n1 - n2\n",
    "        print(f\"The result of subtracting {n2} from {n1} is: {result}\")\n",
    "    elif operation == '3':\n",
    "        result = n1 * n2\n",
    "        print(f\"The result of multiplying {n1} by {n2} is: {result}\")\n",
    "    elif operation == '4':\n",
    "        if number2 == 0:\n",
    "            print(\"Error: Division by zero is not possible.\")\n",
    "        else:\n",
    "            result = n1 / n2\n",
    "            print(f\"The result of dividing {n1} by {n2} is: {result}\")\n",
    "    else:\n",
    "        print(\"Invalid choice. Please select a valid operation.\")\n",
    "\n",
    "\n",
    "simple_calculator()\n"
   ]
  },
  {
   "cell_type": "code",
   "execution_count": null,
   "id": "d0ab20a7-e313-46f8-a4f1-f443f394de42",
   "metadata": {},
   "outputs": [],
   "source": []
  }
 ],
 "metadata": {
  "kernelspec": {
   "display_name": "Python 3 (ipykernel)",
   "language": "python",
   "name": "python3"
  },
  "language_info": {
   "codemirror_mode": {
    "name": "ipython",
    "version": 3
   },
   "file_extension": ".py",
   "mimetype": "text/x-python",
   "name": "python",
   "nbconvert_exporter": "python",
   "pygments_lexer": "ipython3",
   "version": "3.11.7"
  }
 },
 "nbformat": 4,
 "nbformat_minor": 5
}
