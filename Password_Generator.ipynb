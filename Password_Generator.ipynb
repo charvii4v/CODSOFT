{
 "cells": [
  {
   "cell_type": "code",
   "execution_count": 1,
   "id": "2496678c-3ba6-411b-bfa3-d0388ad9f6f4",
   "metadata": {},
   "outputs": [
    {
     "name": "stdin",
     "output_type": "stream",
     "text": [
      "Enter the desired length of the password:  8\n"
     ]
    },
    {
     "name": "stdout",
     "output_type": "stream",
     "text": [
      "Generated password: <PaoEQ_d\n"
     ]
    }
   ],
   "source": [
    "import string\n",
    "import random\n",
    "\n",
    "def generate_pwd(length):\n",
    "    \n",
    "    characters = string.ascii_letters + string.digits + string.punctuation\n",
    "    \n",
    "    \n",
    "    pwd = ''.join(random.choice(characters) for _ in range(length))\n",
    "    \n",
    "    return pwd\n",
    "\n",
    "def main():\n",
    "    \n",
    "    try:\n",
    "        length = int(input(\"Enter the desired length of the password: \"))\n",
    "        \n",
    "      \n",
    "        if length < 1:\n",
    "            print(\"Password length should be at least 1.\")\n",
    "        else:\n",
    "            \n",
    "            pwd = generate_pwd(length)\n",
    "            \n",
    "          \n",
    "            print(f\"Generated password: {pwd}\")\n",
    "    except ValueError:\n",
    "        print(\"Invalid input. Please enter a valid number.\")\n",
    "\n",
    "if __name__ == \"__main__\":\n",
    "    main()\n"
   ]
  },
  {
   "cell_type": "code",
   "execution_count": null,
   "id": "0aea4d91-2306-466e-8151-5fec659632d3",
   "metadata": {},
   "outputs": [],
   "source": []
  }
 ],
 "metadata": {
  "kernelspec": {
   "display_name": "Python 3 (ipykernel)",
   "language": "python",
   "name": "python3"
  },
  "language_info": {
   "codemirror_mode": {
    "name": "ipython",
    "version": 3
   },
   "file_extension": ".py",
   "mimetype": "text/x-python",
   "name": "python",
   "nbconvert_exporter": "python",
   "pygments_lexer": "ipython3",
   "version": "3.11.7"
  }
 },
 "nbformat": 4,
 "nbformat_minor": 5
}
